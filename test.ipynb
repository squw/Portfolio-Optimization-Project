{
 "cells": [
  {
   "cell_type": "code",
   "execution_count": null,
   "id": "396bd54a",
   "metadata": {},
   "outputs": [],
   "source": [
    "from fetch_data import fetch_price_data\n",
    "from data_processing.process_data_historical import process_historical_data\n",
    "from optimize import optimize_portfolio"
   ]
  },
  {
   "cell_type": "code",
   "execution_count": null,
   "id": "c2d24ddd",
   "metadata": {},
   "outputs": [],
   "source": [
    "tickers = [\"AAPL\", \"MSFT\", \"GOOGL\", \"NVDA\"]\n",
    "period = '1y'\n",
    "method = 'pr3'\n",
    "tau = 1.0"
   ]
  },
  {
   "cell_type": "code",
   "execution_count": null,
   "id": "61f2242c",
   "metadata": {},
   "outputs": [],
   "source": [
    "# Fetch price data\n",
    "price_data = fetch_price_data(tickers, period)"
   ]
  },
  {
   "cell_type": "code",
   "execution_count": null,
   "id": "5bea614e",
   "metadata": {},
   "outputs": [],
   "source": [
    "# Process the data into returns and cov matrix\n",
    "expected_returns, cov_matrix, tickers = process_historical_data(price_data)"
   ]
  },
  {
   "cell_type": "code",
   "execution_count": null,
   "id": "840cb644",
   "metadata": {},
   "outputs": [],
   "source": [
    "# Optimize\n",
    "result = optimize_portfolio(expected_returns, cov_matrix, tickers, method, tau)"
   ]
  },
  {
   "cell_type": "code",
   "execution_count": null,
   "id": "09fe339a",
   "metadata": {},
   "outputs": [],
   "source": [
    "result"
   ]
  }
 ],
 "metadata": {
  "kernelspec": {
   "display_name": ".venv",
   "language": "python",
   "name": "python3"
  },
  "language_info": {
   "codemirror_mode": {
    "name": "ipython",
    "version": 3
   },
   "file_extension": ".py",
   "mimetype": "text/x-python",
   "name": "python",
   "nbconvert_exporter": "python",
   "pygments_lexer": "ipython3",
   "version": "3.13.3"
  }
 },
 "nbformat": 4,
 "nbformat_minor": 5
}
