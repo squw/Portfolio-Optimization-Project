{
 "cells": [
  {
   "cell_type": "code",
   "execution_count": 1,
   "id": "396bd54a",
   "metadata": {},
   "outputs": [],
   "source": [
    "from fetch_data import fetch_price_data\n",
    "from data_processing.process_data_historical import process_historical_data\n",
    "from optimize import optimize_portfolio"
   ]
  },
  {
   "cell_type": "code",
   "execution_count": 2,
   "id": "c2d24ddd",
   "metadata": {},
   "outputs": [],
   "source": [
    "tickers = [\"AAPL\", \"MSFT\", \"GOOGL\", \"NVDA\"]\n",
    "period = '1y'\n",
    "method = 'pr3'\n",
    "tau = 1.0"
   ]
  },
  {
   "cell_type": "code",
   "execution_count": 3,
   "id": "61f2242c",
   "metadata": {},
   "outputs": [
    {
     "name": "stderr",
     "output_type": "stream",
     "text": [
      "[*********************100%***********************]  4 of 4 completed\n"
     ]
    }
   ],
   "source": [
    "# Fetch price data\n",
    "price_data = fetch_price_data(tickers, period)"
   ]
  },
  {
   "cell_type": "code",
   "execution_count": 4,
   "id": "5bea614e",
   "metadata": {},
   "outputs": [],
   "source": [
    "# Process the data into returns and cov matrix\n",
    "expected_returns, cov_matrix, tickers = process_historical_data(price_data)"
   ]
  },
  {
   "cell_type": "code",
   "execution_count": 5,
   "id": "840cb644",
   "metadata": {},
   "outputs": [],
   "source": [
    "# Optimize\n",
    "result = optimize_portfolio(expected_returns, cov_matrix, tickers, method, tau)"
   ]
  },
  {
   "cell_type": "code",
   "execution_count": 6,
   "id": "09fe339a",
   "metadata": {},
   "outputs": [
    {
     "data": {
      "text/plain": [
       "{'weights': {'AAPL': np.float64(0.0),\n",
       "  'GOOGL': np.float64(0.0),\n",
       "  'MSFT': np.float64(0.6289),\n",
       "  'NVDA': np.float64(0.3711)},\n",
       " 'expected_return': np.float64(0.1403),\n",
       " 'volatility': np.float64(0.3395),\n",
       " 'sharpe_ratio': np.float64(0.4134)}"
      ]
     },
     "execution_count": 6,
     "metadata": {},
     "output_type": "execute_result"
    }
   ],
   "source": [
    "result"
   ]
  },
  {
   "cell_type": "code",
   "execution_count": null,
   "id": "8627c39a",
   "metadata": {},
   "outputs": [
    {
     "name": "stdout",
     "output_type": "stream",
     "text": [
      "Best tau: 1.42 with Sharpe Ratio: 0.4189\n"
     ]
    }
   ],
   "source": [
    "# Get best tau value for max sharpe ratio\n",
    "\n",
    "import numpy as np\n",
    "best_sharpe = -np.inf\n",
    "best_tau = None\n",
    "\n",
    "for tau in np.linspace(0.01, 10, 100):\n",
    "    result = optimize_portfolio(expected_returns, cov_matrix, tickers, method='pr3', tau=tau)\n",
    "    if result['sharpe_ratio'] > best_sharpe:\n",
    "        best_sharpe = result['sharpe_ratio']\n",
    "        best_tau = tau\n",
    "\n",
    "print(f\"Best tau: {round(best_tau, 2)} with Sharpe Ratio: {round(best_sharpe, 4)}\")"
   ]
  },
  {
   "cell_type": "code",
   "execution_count": 15,
   "id": "b8fdb363",
   "metadata": {},
   "outputs": [
    {
     "data": {
      "text/plain": [
       "{'weights': {'AAPL': np.float64(0.0),\n",
       "  'GOOGL': np.float64(0.0),\n",
       "  'MSFT': np.float64(0.7713),\n",
       "  'NVDA': np.float64(0.2287)},\n",
       " 'expected_return': np.float64(0.1247),\n",
       " 'volatility': np.float64(0.2977),\n",
       " 'sharpe_ratio': np.float64(0.4189)}"
      ]
     },
     "execution_count": 15,
     "metadata": {},
     "output_type": "execute_result"
    }
   ],
   "source": [
    "optimize_portfolio(expected_returns, cov_matrix, tickers, method, tau = 1.42)"
   ]
  },
  {
   "cell_type": "code",
   "execution_count": 9,
   "id": "d2c50e12",
   "metadata": {},
   "outputs": [
    {
     "data": {
      "text/plain": [
       "{'weights': {'AAPL': np.float64(0.0),\n",
       "  'GOOGL': np.float64(0.0),\n",
       "  'MSFT': np.float64(0.0),\n",
       "  'NVDA': np.float64(1.0)},\n",
       " 'expected_return': np.float64(0.2093),\n",
       " 'volatility': np.float64(0.586),\n",
       " 'sharpe_ratio': np.float64(0.3573)}"
      ]
     },
     "execution_count": 9,
     "metadata": {},
     "output_type": "execute_result"
    }
   ],
   "source": [
    "optimize_portfolio(expected_returns, cov_matrix, tickers, method, tau = 0.1)"
   ]
  },
  {
   "cell_type": "code",
   "execution_count": 10,
   "id": "6c22c36d",
   "metadata": {},
   "outputs": [
    {
     "data": {
      "text/plain": [
       "{'weights': {'AAPL': np.float64(-0.0),\n",
       "  'GOOGL': np.float64(-0.0),\n",
       "  'MSFT': np.float64(0.1474),\n",
       "  'NVDA': np.float64(0.8526)},\n",
       " 'expected_return': np.float64(0.1932),\n",
       " 'volatility': np.float64(0.5232),\n",
       " 'sharpe_ratio': np.float64(0.3692)}"
      ]
     },
     "execution_count": 10,
     "metadata": {},
     "output_type": "execute_result"
    }
   ],
   "source": [
    "optimize_portfolio(expected_returns, cov_matrix, tickers, method, tau = 0.5)"
   ]
  },
  {
   "cell_type": "code",
   "execution_count": 11,
   "id": "3ea69a60",
   "metadata": {},
   "outputs": [
    {
     "data": {
      "text/plain": [
       "{'weights': {'AAPL': np.float64(0.0),\n",
       "  'GOOGL': np.float64(0.0),\n",
       "  'MSFT': np.float64(0.6289),\n",
       "  'NVDA': np.float64(0.3711)},\n",
       " 'expected_return': np.float64(0.1403),\n",
       " 'volatility': np.float64(0.3395),\n",
       " 'sharpe_ratio': np.float64(0.4134)}"
      ]
     },
     "execution_count": 11,
     "metadata": {},
     "output_type": "execute_result"
    }
   ],
   "source": [
    "optimize_portfolio(expected_returns, cov_matrix, tickers, method, tau = 1)"
   ]
  },
  {
   "cell_type": "code",
   "execution_count": 12,
   "id": "ecf9d58b",
   "metadata": {},
   "outputs": [
    {
     "data": {
      "text/plain": [
       "{'weights': {'AAPL': np.float64(-0.0),\n",
       "  'GOOGL': np.float64(-0.0),\n",
       "  'MSFT': np.float64(0.8697),\n",
       "  'NVDA': np.float64(0.1303)},\n",
       " 'expected_return': np.float64(0.1139),\n",
       " 'volatility': np.float64(0.275),\n",
       " 'sharpe_ratio': np.float64(0.4143)}"
      ]
     },
     "execution_count": 12,
     "metadata": {},
     "output_type": "execute_result"
    }
   ],
   "source": [
    "optimize_portfolio(expected_returns, cov_matrix, tickers, method, tau = 2)"
   ]
  },
  {
   "cell_type": "code",
   "execution_count": 13,
   "id": "39f9268c",
   "metadata": {},
   "outputs": [
    {
     "data": {
      "text/plain": [
       "{'weights': {'AAPL': np.float64(-0.0),\n",
       "  'GOOGL': np.float64(-0.0),\n",
       "  'MSFT': np.float64(1.0),\n",
       "  'NVDA': np.float64(-0.0)},\n",
       " 'expected_return': np.float64(0.0996),\n",
       " 'volatility': np.float64(0.2554),\n",
       " 'sharpe_ratio': np.float64(0.3902)}"
      ]
     },
     "execution_count": 13,
     "metadata": {},
     "output_type": "execute_result"
    }
   ],
   "source": [
    "optimize_portfolio(expected_returns, cov_matrix, tickers, method, tau = 5)"
   ]
  }
 ],
 "metadata": {
  "kernelspec": {
   "display_name": ".venv",
   "language": "python",
   "name": "python3"
  },
  "language_info": {
   "codemirror_mode": {
    "name": "ipython",
    "version": 3
   },
   "file_extension": ".py",
   "mimetype": "text/x-python",
   "name": "python",
   "nbconvert_exporter": "python",
   "pygments_lexer": "ipython3",
   "version": "3.13.3"
  }
 },
 "nbformat": 4,
 "nbformat_minor": 5
}
