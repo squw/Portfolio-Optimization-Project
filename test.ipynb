{
 "cells": [
  {
   "cell_type": "code",
   "execution_count": 6,
   "id": "396bd54a",
   "metadata": {},
   "outputs": [],
   "source": [
    "from fetch_data import fetch_price_data\n",
    "from data_processing.process_data_historical import process_historical_data\n",
    "from data_processing.process_data_var_garch import process_data_var_garch\n",
    "from optimize import optimize_portfolio"
   ]
  },
  {
   "cell_type": "code",
   "execution_count": 7,
   "id": "c2d24ddd",
   "metadata": {},
   "outputs": [],
   "source": [
    "tickers = [\"AAPL\", \"MSFT\", \"GOOGL\", \"NVDA\"]\n",
    "period = '3y'\n",
    "method = 'pr3'\n",
    "tau = 1.0"
   ]
  },
  {
   "cell_type": "code",
   "execution_count": 8,
   "id": "61f2242c",
   "metadata": {},
   "outputs": [
    {
     "name": "stderr",
     "output_type": "stream",
     "text": [
      "[*********************100%***********************]  4 of 4 completed\n"
     ]
    }
   ],
   "source": [
    "# Fetch price data\n",
    "price_data = fetch_price_data(tickers, period)"
   ]
  },
  {
   "cell_type": "code",
   "execution_count": 9,
   "id": "8874ce10",
   "metadata": {},
   "outputs": [
    {
     "name": "stdout",
     "output_type": "stream",
     "text": [
      "base dir =  /home/squwsun/Portfolio Optimization Project/data_processing\n",
      "tmp dir =  /home/squwsun/Portfolio Optimization Project/data_processing/tmp\n",
      "csv path =  /home/squwsun/Portfolio Optimization Project/data_processing/tmp/weekly_return_log.csv\n"
     ]
    },
    {
     "name": "stderr",
     "output_type": "stream",
     "text": [
      "Registered S3 method overwritten by 'quantmod':\n",
      "  method            from\n",
      "  as.zoo.data.frame zoo \n",
      "Loading required package: MASS\n",
      "Loading required package: strucchange\n",
      "Loading required package: zoo\n",
      "\n",
      "Attaching package: ‘zoo’\n",
      "\n",
      "The following objects are masked from ‘package:base’:\n",
      "\n",
      "    as.Date, as.Date.numeric\n",
      "\n",
      "Loading required package: sandwich\n",
      "Loading required package: urca\n",
      "Loading required package: lmtest\n",
      "Loading required package: rugarch\n",
      "Loading required package: parallel\n"
     ]
    },
    {
     "data": {
      "text/plain": [
       "{'weights': {'AAPL': np.float64(0.0446),\n",
       "  'GOOGL': np.float64(0.6778),\n",
       "  'MSFT': np.float64(0.0),\n",
       "  'NVDA': np.float64(0.2775)},\n",
       " 'expected_return': np.float64(0.6081),\n",
       " 'volatility': np.float64(0.2869),\n",
       " 'sharpe_ratio': np.float64(2.1193)}"
      ]
     },
     "execution_count": 9,
     "metadata": {},
     "output_type": "execute_result"
    }
   ],
   "source": [
    "expected_returns, cov_matrix, tickers = process_data_var_garch(price_data)\n",
    "optimize_portfolio(expected_returns, cov_matrix, tickers, method, tau)"
   ]
  }
 ],
 "metadata": {
  "kernelspec": {
   "display_name": ".venv",
   "language": "python",
   "name": "python3"
  },
  "language_info": {
   "codemirror_mode": {
    "name": "ipython",
    "version": 3
   },
   "file_extension": ".py",
   "mimetype": "text/x-python",
   "name": "python",
   "nbconvert_exporter": "python",
   "pygments_lexer": "ipython3",
   "version": "3.13.3"
  }
 },
 "nbformat": 4,
 "nbformat_minor": 5
}
